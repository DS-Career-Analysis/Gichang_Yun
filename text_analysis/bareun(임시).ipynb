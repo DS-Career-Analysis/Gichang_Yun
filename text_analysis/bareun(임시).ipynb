{
  "nbformat": 4,
  "nbformat_minor": 0,
  "metadata": {
    "colab": {
      "private_outputs": true,
      "provenance": []
    },
    "kernelspec": {
      "name": "python3",
      "display_name": "Python 3"
    },
    "language_info": {
      "name": "python"
    }
  },
  "cells": [
    {
      "cell_type": "markdown",
      "source": [
        "## Download bareun ai"
      ],
      "metadata": {
        "id": "gX4SExFjEnXE"
      }
    },
    {
      "cell_type": "code",
      "source": [
        "!curl -LJks -H \"uname:$(uname -a)\" https://bareun.ai/api/get -o bareun-linux.deb\n",
        "!ls"
      ],
      "metadata": {
        "id": "55C3lu6n_MtG"
      },
      "execution_count": null,
      "outputs": []
    },
    {
      "cell_type": "code",
      "execution_count": null,
      "metadata": {
        "id": "L8enDMpCogte"
      },
      "outputs": [],
      "source": [
        "!uname -a\n",
        "!dpkg -i bareun-linux.deb"
      ]
    },
    {
      "cell_type": "code",
      "source": [
        "!curl -O https://storage.googleapis.com/tensorflow/libtensorflow/libtensorflow-gpu-linux-x86_64-2.9.1.tar.gz\n",
        "!tar -C /opt/bareun -xzf libtensorflow-gpu-linux-x86_64-2.9.1.tar.gz"
      ],
      "metadata": {
        "id": "rh1Z1y-j_Top"
      },
      "execution_count": null,
      "outputs": []
    },
    {
      "cell_type": "code",
      "source": [
        "%env BAREUN_ROOT=\"/opt/bareun\"\n",
        "%env LD_LIBRARY_PATH=\"/opt/bareun/lib\"\n",
        "!BAREUN_ROOT=\"/opt/bareun\" LD_LIBRARY_PATH=\"/opt/bareun/lib\" nohup /opt/bareun/bin/bareun&"
      ],
      "metadata": {
        "id": "BEDjzdhW_YZQ"
      },
      "execution_count": null,
      "outputs": []
    },
    {
      "cell_type": "code",
      "source": [
        "!ps -ef | grep bareun"
      ],
      "metadata": {
        "id": "7S1K6dDd_Yq5"
      },
      "execution_count": null,
      "outputs": []
    },
    {
      "cell_type": "code",
      "source": [
        "!BAREUN_ROOT=\"/opt/bareun\" LD_LIBRARY_PATH=\"/opt/bareun/lib\" /opt/bareun/bin/bareun -reg API_KEY"
      ],
      "metadata": {
        "id": "mJLrVyjb_bOc"
      },
      "execution_count": null,
      "outputs": []
    },
    {
      "cell_type": "code",
      "source": [
        "!pip install -U bareunpy"
      ],
      "metadata": {
        "id": "Dbp3kuEd_h0_"
      },
      "execution_count": null,
      "outputs": []
    },
    {
      "cell_type": "markdown",
      "source": [
        "## Code"
      ],
      "metadata": {
        "id": "9aVvtST7EtB0"
      }
    },
    {
      "cell_type": "code",
      "source": [
        "import pandas as pd\n",
        "\n",
        "incruit_df = pd.read_csv(\"/content/drive/MyDrive/DS직무분석/CSV/incruit.csv\")\n",
        "saramin_df = pd.read_csv(\"/content/drive/MyDrive/DS직무분석/CSV/saramin.csv\", encoding='cp949')\n",
        "wanted_jobplanet_df = pd.read_csv(\"/content/drive/MyDrive/DS직무분석/CSV/wanted_jobplanet.csv\")"
      ],
      "metadata": {
        "id": "R5-XhtYWC3z9"
      },
      "execution_count": null,
      "outputs": []
    },
    {
      "cell_type": "code",
      "source": [
        "incruit_df.head()"
      ],
      "metadata": {
        "id": "kz5nhyvzE-0f"
      },
      "execution_count": null,
      "outputs": []
    },
    {
      "cell_type": "code",
      "source": [
        "saramin_df.head()"
      ],
      "metadata": {
        "id": "cRNVeDDuFD3T"
      },
      "execution_count": null,
      "outputs": []
    },
    {
      "cell_type": "code",
      "source": [
        "wanted_jobplanet_df.head()"
      ],
      "metadata": {
        "id": "o-WXFd3pFF5y"
      },
      "execution_count": null,
      "outputs": []
    },
    {
      "cell_type": "code",
      "source": [
        "all_df = pd.concat([wanted_jobplanet_df, saramin_df])"
      ],
      "metadata": {
        "id": "59AnwD9_FKAO"
      },
      "execution_count": null,
      "outputs": []
    },
    {
      "cell_type": "code",
      "source": [
        "all_df.head()"
      ],
      "metadata": {
        "id": "LZxuUf1bFZoR"
      },
      "execution_count": null,
      "outputs": []
    },
    {
      "cell_type": "code",
      "source": [
        "ds_df = all_df.groupby('label').get_group(\"데이터 사이언티스트\")\n",
        "da_df = all_df.groupby('label').get_group(\"데이터 애널리스트\")\n",
        "de_df = all_df.groupby('label').get_group(\"데이터 엔지니어\")"
      ],
      "metadata": {
        "id": "QflI0ICgI2wd"
      },
      "execution_count": null,
      "outputs": []
    },
    {
      "cell_type": "code",
      "source": [
        "import sys\n",
        "import bareunpy as brn\n",
        "import google.protobuf.text_format as tf\n",
        "\n",
        "API_KEY = \"API_KEY",\n
        "t = brn.Tagger(API_KEY, \"localhost\", 5656)\n",
        "ds_preference_na = []\n",
        "\n",
        "for index, row in ds_df.iterrows():\n",
        "    try:\n",
        "        preference_text = row['Preference']\n",
        "        res = t.tags([preference_text])\n",
        "        na = res.nouns()\n",
        "        ds_preference_na.append(na)\n",
        "    except Exception as e:\n",
        "        pass\n",
        "\n",
        "ds_preference_na = sum(ds_preference_na, [])\n",
        "set_preference_ds = set(ds_preference_na)"
      ],
      "metadata": {
        "id": "qgF0vv8dFbPu"
      },
      "execution_count": null,
      "outputs": []
    },
    {
      "cell_type": "code",
      "source": [
        "da_preference_na = []\n",
        "\n",
        "for index, row in da_df.iterrows():\n",
        "    try:\n",
        "        preference_text = row['Preference']\n",
        "        res = t.tags([preference_text])\n",
        "        na = res.nouns()\n",
        "        da_preference_na.append(na)\n",
        "    except Exception as e:\n",
        "        pass\n",
        "\n",
        "da_preference_na = sum(da_preference_na, [])\n",
        "set_preference_da = set(da_preference_na)"
      ],
      "metadata": {
        "id": "yq53wFo1JvQJ"
      },
      "execution_count": null,
      "outputs": []
    },
    {
      "cell_type": "code",
      "source": [
        "de_preference_na = []\n",
        "\n",
        "for index, row in de_df.iterrows():\n",
        "    try:\n",
        "        preference_text = row['Preference']\n",
        "        res = t.tags([preference_text])\n",
        "        na = res.nouns()\n",
        "        de_preference_na.append(na)\n",
        "    except Exception as e:\n",
        "        pass\n",
        "\n",
        "de_preference_na = sum(de_preference_na, [])\n",
        "set_preference_de = set(de_preference_na)"
      ],
      "metadata": {
        "id": "AHTKAgM8KZM4"
      },
      "execution_count": null,
      "outputs": []
    },
    {
      "cell_type": "code",
      "source": [
        "# set들을 list로 변환한 후 데이터 처리\n",
        "list_preference_ds = list(set_preference_ds)\n",
        "list_preference_da = list(set_preference_da)\n",
        "list_preference_de = list(set_preference_de)\n",
        "\n",
        "# 길이를 맞추기 위해 None을 추가\n",
        "max_length = max(len(list_preference_ds), len(list_preference_da), len(list_preference_de))\n",
        "list_preference_ds += [None] * (max_length - len(list_preference_ds))\n",
        "list_preference_da += [None] * (max_length - len(list_preference_da))\n",
        "list_preference_de += [None] * (max_length - len(list_preference_de))\n",
        "\n",
        "# 데이터를 딕셔너리로 만들고 DataFrame으로 변환\n",
        "preference_na_df = {\n",
        "    'DS': list_preference_ds,\n",
        "    'DA': list_preference_da,\n",
        "    'DE': list_preference_de\n",
        "}\n",
        "\n",
        "preference_na_df = pd.DataFrame(preference_na_df)\n",
        "preference_na_df.to_csv(\"preference_na.csv\", index = False)"
      ],
      "metadata": {
        "id": "Lfm4U3YoP1yR"
      },
      "execution_count": null,
      "outputs": []
    },
    {
      "cell_type": "code",
      "source": [
        "ds_requirement_na = []\n",
        "\n",
        "for index, row in ds_df.iterrows():\n",
        "    try:\n",
        "        requirement_text = row['Requirement']\n",
        "        res = t.tags([requirement_text])\n",
        "        na = res.nouns()\n",
        "        ds_requirement_na.append(na)\n",
        "    except Exception as e:\n",
        "        pass\n",
        "\n",
        "ds_requirement_na = sum(ds_requirement_na, [])\n",
        "set_requirement_ds = set(ds_requirement_na)"
      ],
      "metadata": {
        "id": "vw-Gc8mfMH9G"
      },
      "execution_count": null,
      "outputs": []
    },
    {
      "cell_type": "code",
      "source": [
        "da_requirement_na = []\n",
        "\n",
        "for index, row in da_df.iterrows():\n",
        "    try:\n",
        "        requirement_text = row['Requirement']\n",
        "        res = t.tags([requirement_text])\n",
        "        na = res.nouns()\n",
        "        da_requirement_na.append(na)\n",
        "    except Exception as e:\n",
        "        pass\n",
        "\n",
        "da_requirement_na = sum(da_requirement_na, [])\n",
        "set_requirement_da = set(da_requirement_na)"
      ],
      "metadata": {
        "id": "gdswzsaNM1nN"
      },
      "execution_count": null,
      "outputs": []
    },
    {
      "cell_type": "code",
      "source": [
        "de_requirement_na = []\n",
        "\n",
        "for index, row in de_df.iterrows():\n",
        "    try:\n",
        "        requirement_text = row['Requirement']\n",
        "        res = t.tags([requirement_text])\n",
        "        na = res.nouns()\n",
        "        de_requirement_na.append(na)\n",
        "    except Exception as e:\n",
        "        pass\n",
        "\n",
        "de_requirement_na = sum(de_requirement_na, [])\n",
        "set_requirement_de = set(de_requirement_na)"
      ],
      "metadata": {
        "id": "yn79ut00M52j"
      },
      "execution_count": null,
      "outputs": []
    },
    {
      "cell_type": "code",
      "source": [
        "# set들을 list로 변환한 후 데이터 처리\n",
        "list_requirement_ds = list(set_requirement_ds)\n",
        "list_requirement_da = list(set_requirement_da)\n",
        "list_requirement_de = list(set_requirement_de)\n",
        "\n",
        "# 길이를 맞추기 위해 None을 추가\n",
        "max_length = max(len(list_requirement_ds), len(list_requirement_da), len(list_requirement_de))\n",
        "list_requirement_ds += [None] * (max_length - len(list_requirement_ds))\n",
        "list_requirement_da += [None] * (max_length - len(list_requirement_da))\n",
        "list_requirement_de += [None] * (max_length - len(list_requirement_de))\n",
        "\n",
        "# 데이터를 딕셔너리로 만들고 DataFrame으로 변환\n",
        "requirement_na_df = {\n",
        "    'DS': list_requirement_ds,\n",
        "    'DA': list_requirement_da,\n",
        "    'DE': list_requirement_de\n",
        "}\n",
        "\n",
        "requirement_na_df = pd.DataFrame(requirement_na_df)\n",
        "requirement_na_df.to_csv(\"requirement_na.csv\", index = False)"
      ],
      "metadata": {
        "id": "nT8nptbyNmD1"
      },
      "execution_count": null,
      "outputs": []
    },
    {
      "cell_type": "code",
      "source": [
        "from collections import Counter\n",
        "\n",
        "counter = Counter(ds_preference_na)\n",
        "\n",
        "print(dict(counter))"
      ],
      "metadata": {
        "id": "Uy3EimSFRvyU"
      },
      "execution_count": null,
      "outputs": []
    },
    {
      "cell_type": "code",
      "source": [
        "from collections import Counter\n",
        "\n",
        "counter = Counter(ds_preference_na)\n",
        "\n",
        "# 내림차순으로 정렬된 결과 얻기\n",
        "sorted_counter = dict(sorted(counter.items(), key=lambda item: item[1], reverse=True))\n",
        "\n",
        "print(sorted_counter)\n"
      ],
      "metadata": {
        "id": "GBSKrhBJWEKf"
      },
      "execution_count": null,
      "outputs": []
    },
    {
      "cell_type": "code",
      "source": [
        "# 1. 기본 데이터 처리, 정규식, 문자열처리 라이브러리\n",
        "import numpy as np\n",
        "import pandas as pd\n",
        "import re\n",
        "import string\n",
        "\n",
        "\n",
        "# 3. 문자 빈도, 문자특성 추출, 워드클라우드\n",
        "from collections import Counter\n",
        "from sklearn.feature_extraction.text import CountVectorizer, TfidfVectorizer\n",
        "from wordcloud import WordCloud\n",
        "from itertools import chain\n",
        "\n",
        "# 4. 데이터문서 및 날짜처리 라이브러리\n",
        "from itertools import chain\n",
        "import pickle\n",
        "from datetime import datetime\n",
        "\n",
        "# 5. 도표 및 시각화 라이브러리\n",
        "import matplotlib.pyplot as plt\n",
        "from matplotlib import font_manager\n",
        "import networkx as nx\n",
        "from networkx.drawing.nx_pydot import graphviz_layout\n",
        "\n",
        "import sys\n",
        "import datetime\n",
        "import os\n",
        "import requests\n",
        "from bs4 import BeautifulSoup\n",
        "import re\n",
        "import pdb"
      ],
      "metadata": {
        "id": "m8MfHovGW3Yu"
      },
      "execution_count": null,
      "outputs": []
    },
    {
      "cell_type": "code",
      "source": [
        "import matplotlib.pyplot as plt\n",
        "from matplotlib import font_manager\n",
        "import networkx as nx\n",
        "from networkx.drawing.nx_pydot import graphviz_layout\n",
        "\n",
        "wc = WordCloud(\n",
        "    font_path=None,             # Let WordCloud use its default font\n",
        "    background_color='black',\n",
        "    width=1200,\n",
        "    height=800\n",
        ")\n",
        "cloud = wc.generate_from_frequencies(dict(counter))\n",
        "\n",
        "plt.figure(figsize=(12, 12))\n",
        "plt.imshow(cloud)\n",
        "plt.axis('off')\n",
        "plt.savefig('DS_K.png', bbox_inches='tight')\n"
      ],
      "metadata": {
        "id": "xsZVYf3uWQPT"
      },
      "execution_count": null,
      "outputs": []
    },
    {
      "cell_type": "code",
      "source": [],
      "metadata": {
        "id": "bnwZnOlBXHHh"
      },
      "execution_count": null,
      "outputs": []
    }
  ]
}
