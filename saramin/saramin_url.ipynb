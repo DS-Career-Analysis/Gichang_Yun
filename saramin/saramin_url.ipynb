{
 "cells": [
  {
   "cell_type": "code",
   "execution_count": 11,
   "id": "e4f51a5f",
   "metadata": {},
   "outputs": [
    {
     "name": "stdout",
     "output_type": "stream",
     "text": [
      "검색결과 수 :  2361\n"
     ]
    }
   ],
   "source": [
    "from urllib.request import Request, urlopen, HTTPError\n",
    "import re\n",
    "from selenium import webdriver\n",
    "from selenium.webdriver.common.keys import Keys\n",
    "import time\n",
    "from selenium.webdriver.common.by import By\n",
    "import csv\n",
    "\n",
    "keyword = ['데이터 사이언티스트', '데이터애널리스트', '데이터 엔지니어']\n",
    "page = 1\n",
    "front_url = 'https://www.saramin.co.kr/zf_user/search/recruit?search_area=main&search_done=y&search_optional_item=n&searchType=recently&searchword='\n",
    "mid_url = '&recruitPage='\n",
    "back_url = '&recruitSort=relation&recruitPageCount=100&inner_com_type=&company_cd=0%2C1%2C2%2C3%2C4%2C5%2C6%2C7%2C9%2C10&show_applied=&quick_apply=&except_read=&ai_head_hunting='\n",
    "url_data = []       # url 저장 리스트\n",
    "company_name = []\n",
    "position_name = []\n",
    "post_title = []\n",
    "\n",
    "driver = webdriver.Chrome(\"chromedriver\")\n",
    "\n",
    "# url들을 찾는 크롤링코드\n",
    "for search_keyword in keyword:\n",
    "    driver.get(front_url+search_keyword+mid_url+str(page)+back_url)\n",
    "    ct_result = driver.find_element(By.XPATH, '//*[@id=\"recruit_info\"]/div[1]/span').text\n",
    "    total_result = re.sub(r'[^0-9]', '', ct_result)\n",
    "    page_ct = int(int(total_result)/100)\n",
    "\n",
    "    for pages in range(1, page_ct+2):\n",
    "        try:\n",
    "            driver.get(front_url+search_keyword+mid_url+str(pages)+back_url)\n",
    "            driver.implicitly_wait(time_to_wait=60)\n",
    "\n",
    "            div_1 = driver.find_elements(By.CLASS_NAME, \"job_tit\")\n",
    "            for item in div_1:\n",
    "                tmp_url = item.find_element(By.TAG_NAME, \"a\").get_attribute('href')\n",
    "                url_data.append(tmp_url)\n",
    "                tmp_title = item.find_element(By.TAG_NAME, \"a\").text\n",
    "                post_title.append(tmp_title)\n",
    "\n",
    "            div_2 = driver.find_elements(By.CLASS_NAME, \"corp_name\")\n",
    "            for item in div_1:\n",
    "                tmp_cn = item.find_element(By.TAG_NAME, \"a\").text\n",
    "                company_name.append(tmp_cn)\n",
    "                position_name.append(search_keyword)\n",
    "            time.sleep(3)\n",
    "\n",
    "        except Exception as e:\n",
    "            pass\n",
    "\n",
    "driver.close()\n",
    "print('검색결과 수 : ', len(url_data))"
   ]
  },
  {
   "cell_type": "code",
   "execution_count": 12,
   "id": "ff7bc6d2",
   "metadata": {},
   "outputs": [],
   "source": [
    "import pandas as pd\n",
    "saramin_df = pd.DataFrame({'회사명' : company_name, '직무' : position_name, '링크' : url_data})\n",
    "saramin_df.to_csv(\"saramin_df.csv\", index = False)"
   ]
  }
 ],
 "metadata": {
  "kernelspec": {
   "display_name": "Python 3 (ipykernel)",
   "language": "python",
   "name": "python3"
  },
  "language_info": {
   "codemirror_mode": {
    "name": "ipython",
    "version": 3
   },
   "file_extension": ".py",
   "mimetype": "text/x-python",
   "name": "python",
   "nbconvert_exporter": "python",
   "pygments_lexer": "ipython3",
   "version": "3.11.0"
  }
 },
 "nbformat": 4,
 "nbformat_minor": 5
}
